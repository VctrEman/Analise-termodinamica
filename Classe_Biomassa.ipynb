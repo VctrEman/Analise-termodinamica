{
  "nbformat": 4,
  "nbformat_minor": 0,
  "metadata": {
    "colab": {
      "name": "Classe Biomassa.ipynb",
      "provenance": [],
      "collapsed_sections": [],
      "authorship_tag": "ABX9TyNJY1iAgysN1Js87HJW4tRB",
      "include_colab_link": true
    },
    "kernelspec": {
      "name": "python3",
      "display_name": "Python 3"
    },
    "language_info": {
      "name": "python"
    }
  },
  "cells": [
    {
      "cell_type": "markdown",
      "metadata": {
        "id": "view-in-github",
        "colab_type": "text"
      },
      "source": [
        "<a href=\"https://colab.research.google.com/github/VctrEman/Thermodynamics-Grupo-de-Desenvolvimento-Aeroespacial/blob/master/Classe_Biomassa.ipynb\" target=\"_parent\"><img src=\"https://colab.research.google.com/assets/colab-badge.svg\" alt=\"Open In Colab\"/></a>"
      ]
    },
    {
      "cell_type": "code",
      "metadata": {
        "id": "tzN5ye8XHKtu"
      },
      "source": [
        "#classe para biomassa 3\n",
        "class biomassa(object):\n",
        "    \n",
        "    #tabela de entalpias para produtos da exaustão, temperatura (C) - entalpia (kj/kg) \n",
        "    cts = \\\n",
        "       {100:{ 'ct_CO2': 169.98, 'ct_N2': 129.79, 'ct_H2O': 150.72, 'ct_ar': 132.3,'ct_A': 80.80 },\n",
        "        200:{ 'ct_CO2': 357.55, 'ct_N2': 260, 'ct_H2O': 304.38, 'ct_ar': 266.28,'ct_A': 169.14 },\n",
        "        300:{ 'ct_CO2': 558.93, 'ct_N2': 391.88, 'ct_H2O': 462.64, 'ct_ar': 402.77,'ct_A': 263.76 },\n",
        "        400:{ 'ct_RO2' :0, 'ct_CO2': 772.04, 'ct_N2': 526.69, 'ct_H2O': 626.34, 'ct_ar': 542.61,'ct_A': 360 },}\n",
        "   \n",
        "   #atributos da biomassa\n",
        "    def __init__(self, C, H, O, N, S = 0, W = 0, A = 0, Va = 0, lamb = 0, PCIt = 0, Vg = 0, Vgo = 0, Hg = 0, Mi = 0):\n",
        "        self.C = C                                  \n",
        "        self.H = H\n",
        "        self.O = O\n",
        "        self.N = N\n",
        "        self.S = S\n",
        "        self.A = A\n",
        "        self.W = W\n",
        "        self.Va = Va                            #ar teórico m3/kg\n",
        "        self.lamb = lamb                        #lambda\n",
        "        self.Var = 0                            #ar real m3/kg\n",
        "        self.PCIt = PCIt                        \n",
        "        self.Vgo = Vgo                          #volume teórico da exaustão m3/kg\n",
        "        self.Vg = Vg                            #volume real m3/kg\n",
        "        self.Mi = Mi                            #teor de cinzas g/m3\n",
        "        self.Hg = Hg                            #entalpia kj/kg\n",
        "    \n",
        "    #metodo para exibir composicao da base seca\n",
        "    #metodo para o ar teorico, real\n",
        "    #metodo para o PCI bs\n",
        "    #metodo para volume de gases da combustao a partir da composicao\n",
        "    #metodo para vg da exaustao\n",
        "    #metodo para Mi (cinzas)\n",
        "    #metodo para hg\n",
        "\n",
        "    def comp(self):\n",
        "        print(f\"\"\"  \n",
        "Composição percentual em base seca (%)\\n\n",
        "C:\\t{round(self.C,2)}\n",
        "H:\\t{round(self.H,2)}\n",
        "O:\\t{round(self.O,2)}\n",
        "N:\\t{round(self.N,2)}\n",
        "S:\\t{round(self.S,2) }\n",
        "A:\\t{round(self.A,2)}\n",
        "W:\\t{round(self.W,2)}\\n\"\"\")\n",
        "    \n",
        "    #metodo para mostrar os atributos físicos da biomassa\n",
        "    def report(self, temp = 200, d = {} ):\n",
        "        biomassa.Var_Teorico(self)\n",
        "        biomassa.Mi(self)\n",
        "        biomassa.Vg(self)\n",
        "        l = ['C','O','H','N','S','A','W']\n",
        "        for i in [item for item in d.items() if item[0] not in l]:\n",
        "            print(f\"{i[0]}:\\t{round(i[1],2)}\")\n",
        "\n",
        "    #metodo para obtenção da biomassa em base seca\n",
        "    def Bs(C, H, O, N, S, A, Wt, show = False):\n",
        "        bu = [C,H,O,N,S,A,Wt] \n",
        "        bs =  [i - i*Wt/100 if i!= bu[-1] else  Wt  for i in bu] #composição do combustivel em base seca desconsiderando a agua\n",
        "        if show:\n",
        "            print(f'Composição percentual em base seca (%)\\nC\\t{bs[0]}\\nH\\t{bs[1]}\\nO:\\t{bs[2]}\\nN:\\t{bs[3]}\\nS:\\t{bs[4]}\\nA:\\t{bs[5]}')\n",
        "        else: return dict(zip(['C','H','O','N','S','A','W'],bs))\n",
        "\n",
        "    #calculo do ar teórico\n",
        "    def Var_Teorico(self, **kwargs): \n",
        "        self.Va = (0.0888*(self.C + 0.375*self.S)+0.265*self.H - 0.0333*self.O)#  #m3 ar/kg comb\n",
        "        biomassa.Vgo(self)\n",
        "        biomassa.PCIt(self)\n",
        "        self.Var = self.Va*self.lamb\n",
        "        return self.Va\n",
        "    \n",
        "    #calculo do PCI em base trabalho/seca\n",
        "    def PCIt(self): \n",
        "        self.PCIt = (339*self.C +1030*self.H -109*(self.O -self.S)-24*self.W)/1000   #kJ/kg #base seca\n",
        "        return self.PCIt #kJ/kg #base seca\n",
        "\n",
        "    #teor de cinzas\n",
        "    def Mi(self): \n",
        "        self.Mi = self.A*10*0.6/biomassa.Vg(self)\n",
        "        return self.Mi\n",
        "\n",
        "    #entalpia dos gases de exautao\n",
        "    def hg(self, ct_CO2=0, ct_N2=0, ct_H2O=0, ct_ar=0, ct_A=0 ,**kwags ):   \n",
        "        hgo = biomassa.VRO2(self)*ct_CO2 + biomassa.VN2(self)*ct_N2 + biomassa.VH2O(self)*ct_H2O + self.A*0.6/100*ct_A #1/biomassa.Mi(self)/1000*ct_A  #self.A*0.6/100\n",
        "        hao = (self.lamb - 1)*biomassa.Var_Teorico(self)*ct_ar\n",
        "        self.Hg = hgo+hao\n",
        "        return  self.Hg\n",
        "\n",
        "    #volume dos gases de exaustão teórico, m3/kg\n",
        "    def Vgo(self): \n",
        "        self.Vgo = biomassa.VN2(self) + biomassa.VH2O(self) +biomassa.VRO2(self)\n",
        "        return self.Vgo\n",
        "\n",
        "    #volume dos gases de exaustão, m3/kg\n",
        "    def Vg(self): \n",
        "        self.Vg = biomassa.Vgo(self) + 1.0161*(self.lamb-1)*biomassa.Var_Teorico(self)\n",
        "        return self.Vg\n",
        "\n",
        "    #composição do volume dos componentes da exaustao\n",
        "    def VN2(self, lamb = 1): return 0.79* (lamb) *self.Va + 0.008*self.N   \n",
        "    def VRO2(self): return 0.01866*(self.C + 0.375*self.S)\n",
        "    def VH2O(self): return 0.111*self.H + 0.01214*self.W + 0.0161*self.Va\n",
        "    def VSO2(self): return 0.00699*self.S\n",
        "    def VO2(self): return 0.21*(self.lamb -1)*self.Va\n",
        "    def VCO2(self): return 0.01866*self.C"
      ],
      "execution_count": 35,
      "outputs": []
    },
    {
      "cell_type": "code",
      "metadata": {
        "id": "3qoL5llJcnzU"
      },
      "source": [
        "arroz1 = (41,4.3,35.9,0.4,0,18.3, 0)\n",
        "arroz2 = (38.5, 5.7, 39.8, 0.5, 0, 15.5, 0 )\n",
        "arroz3 = (39.4, 4.9, 37.1, 0.5, 0.1, 18, 0)\n",
        "bagac = (44.8, 5.3, 39.6, 0.4, 0, 9.8, 0)\n",
        "borra1 = (59.5, 7.3, 30.7, 2.5, 0, 0, 0) \n",
        "borra2 = (56.2, 7.1, 34.1, 2.4, 0.2, 0, 0) \n",
        "serra = (48.3, 5.9, 45.1, 0.2, 0, 0.4, 0) \n",
        "\n",
        "arrozm = [(i+j+k)/3 for i, j, k in zip(arroz1, arroz2, arroz3)]     #composição media da biomassa do arroz\n",
        "borram = [(i+j)/2 for i, j in zip(borra1, borra2)]                  #composição media da biomassa da borra de café"
      ],
      "execution_count": 36,
      "outputs": []
    },
    {
      "cell_type": "code",
      "metadata": {
        "colab": {
          "base_uri": "https://localhost:8080/"
        },
        "id": "eYLC30zQc6fv",
        "outputId": "8627f95d-e3ba-4c14-e048-10ad0893348e"
      },
      "source": [
        "#casca de arroz\n",
        "p1 = biomassa(**biomassa.Bs(*arrozm) )\n",
        "p1.W = 3.5  \n",
        "p1.comp()\n",
        "p1.Va = p1.Var_Teorico()\n",
        "p1.lamb = 21/(21-5.6)\n",
        "p1.Hg = p1.hg(**biomassa.cts[200])\n",
        "p1.report(d = p1.__dict__)   "
      ],
      "execution_count": 37,
      "outputs": [
        {
          "output_type": "stream",
          "name": "stdout",
          "text": [
            "  \n",
            "Composição percentual em base seca (%)\n",
            "\n",
            "C:\t39.63\n",
            "H:\t4.97\n",
            "O:\t37.6\n",
            "N:\t0.47\n",
            "S:\t0.03\n",
            "A:\t17.27\n",
            "W:\t3.5\n",
            "\n",
            "Va:\t3.58\n",
            "lamb:\t1.36\n",
            "Var:\t4.89\n",
            "PCIt:\t14.37\n",
            "Vgo:\t4.23\n",
            "Vg:\t5.55\n",
            "Mi:\t18.66\n",
            "Hg:\t1564.69\n"
          ]
        }
      ]
    },
    {
      "cell_type": "code",
      "metadata": {
        "colab": {
          "base_uri": "https://localhost:8080/"
        },
        "id": "3ioyLjdae23k",
        "outputId": "88954fe3-4994-4302-b0ee-d0bbfea4b8ae"
      },
      "source": [
        "#borra de cafe\n",
        "p2 = biomassa(**biomassa.Bs(*borram) )\n",
        "p2.W = 2.5\n",
        "p2.comp()\n",
        "p2.Va = p2.Var_Teorico()\n",
        "p2.lamb = 21/(21-7.4) #\n",
        "p2.Hg = p2.hg(**biomassa.cts[200])\n",
        "p2.report(d = p2.__dict__)"
      ],
      "execution_count": 38,
      "outputs": [
        {
          "output_type": "stream",
          "name": "stdout",
          "text": [
            "  \n",
            "Composição percentual em base seca (%)\n",
            "\n",
            "C:\t57.85\n",
            "H:\t7.2\n",
            "O:\t32.4\n",
            "N:\t2.45\n",
            "S:\t0.1\n",
            "A:\t0.0\n",
            "W:\t2.5\n",
            "\n",
            "Va:\t5.97\n",
            "lamb:\t1.54\n",
            "Var:\t9.22\n",
            "PCIt:\t23.45\n",
            "Vgo:\t6.74\n",
            "Vg:\t10.04\n",
            "Mi:\t0.0\n",
            "Hg:\t2764.11\n"
          ]
        }
      ]
    },
    {
      "cell_type": "code",
      "metadata": {
        "colab": {
          "base_uri": "https://localhost:8080/"
        },
        "id": "mhC21kyPpvbp",
        "outputId": "d01ac465-7c60-4f45-992b-361dcac8f855"
      },
      "source": [
        "#serragem\n",
        "p3 = biomassa(**biomassa.Bs(*serra) )\n",
        "p3.W = 10\n",
        "p3.comp()\n",
        "p3.Va = p1.Var_Teorico()\n",
        "p3.lamb = 21/(21-6.3)\n",
        "p3.Hg = p3.hg(**biomassa.cts[200])\n",
        "p3.report(d = p3.__dict__)"
      ],
      "execution_count": 39,
      "outputs": [
        {
          "output_type": "stream",
          "name": "stdout",
          "text": [
            "  \n",
            "Composição percentual em base seca (%)\n",
            "\n",
            "C:\t48.3\n",
            "H:\t5.9\n",
            "O:\t45.1\n",
            "N:\t0.2\n",
            "S:\t0\n",
            "A:\t0.4\n",
            "W:\t10\n",
            "\n",
            "Va:\t4.35\n",
            "lamb:\t1.43\n",
            "Var:\t6.22\n",
            "PCIt:\t17.29\n",
            "Vgo:\t5.19\n",
            "Vg:\t7.08\n",
            "Mi:\t0.34\n",
            "Hg:\t1809.72\n"
          ]
        }
      ]
    },
    {
      "cell_type": "code",
      "metadata": {
        "colab": {
          "base_uri": "https://localhost:8080/"
        },
        "id": "_APrbbFkxp04",
        "outputId": "dc37d6e5-a504-493d-e231-e02a2b54d957"
      },
      "source": [
        "#3º lista questão 2\n",
        "l3_q2 = biomassa( **biomassa.Bs(41, 4.3, 35.9, 0.5, 0, 18.3, 10)  )\n",
        "l3_q2.Va = l3_q2.Var_Teorico()\n",
        "l3_q2.lamb = 21/(21-5.3)\n",
        "l3_q2.Hg = l3_q2.hg(**biomassa.cts[200])\n",
        "l3_q2.comp()\n",
        "l3_q2.report(d = l3_q2.__dict__)"
      ],
      "execution_count": 40,
      "outputs": [
        {
          "output_type": "stream",
          "name": "stdout",
          "text": [
            "  \n",
            "Composição percentual em base seca (%)\n",
            "\n",
            "C:\t36.9\n",
            "H:\t3.87\n",
            "O:\t32.31\n",
            "N:\t0.45\n",
            "S:\t0.0\n",
            "A:\t16.47\n",
            "W:\t10\n",
            "\n",
            "Va:\t3.23\n",
            "lamb:\t1.34\n",
            "Var:\t4.32\n",
            "PCIt:\t12.73\n",
            "Vgo:\t3.84\n",
            "Vg:\t4.95\n",
            "Mi:\t19.96\n",
            "Hg:\t1400.07\n"
          ]
        }
      ]
    },
    {
      "cell_type": "code",
      "metadata": {
        "colab": {
          "base_uri": "https://localhost:8080/"
        },
        "id": "OyOn1pvxf7Cl",
        "outputId": "fa2e9a07-0495-45b3-eb50-d38f78163f8f"
      },
      "source": [
        "#3º lista questão 1\n",
        "l3_q1 = biomassa( **biomassa.Bs( 49, 5.87, 43.97, 0.3, 0.01, 0.72, 30) )\n",
        "l3_q1.lamb = 21/(21-7.01)\n",
        "l3_q1.Va = l3_q1.Var_Teorico()\n",
        "l3_q1.Hg = l3_q1.hg(**biomassa.cts[200])\n",
        "l3_q1.comp()\n",
        "l3_q1.report(d = l3_q1.__dict__)"
      ],
      "execution_count": 41,
      "outputs": [
        {
          "output_type": "stream",
          "name": "stdout",
          "text": [
            "  \n",
            "Composição percentual em base seca (%)\n",
            "\n",
            "C:\t34.3\n",
            "H:\t4.11\n",
            "O:\t30.78\n",
            "N:\t0.21\n",
            "S:\t0.01\n",
            "A:\t0.5\n",
            "W:\t30\n",
            "\n",
            "Va:\t3.11\n",
            "lamb:\t1.5\n",
            "Var:\t4.67\n",
            "PCIt:\t11.79\n",
            "Vgo:\t3.97\n",
            "Vg:\t5.55\n",
            "Mi:\t0.54\n",
            "Hg:\t1548.49\n"
          ]
        }
      ]
    },
    {
      "cell_type": "code",
      "metadata": {
        "colab": {
          "base_uri": "https://localhost:8080/"
        },
        "id": "lX_iHq4V-wg9",
        "outputId": "ab525e41-41f2-4af9-b6d9-9f2e6dfa79d7"
      },
      "source": [
        "#3º lista questão 3 \n",
        "l3_q3 = biomassa( **biomassa.Bs(49.44, 6.09, 40.57, 0, 0, 3.4, 52)  )\n",
        "l3_q3.comp()\n",
        "l3_q3.Va = l3_q3.Var_Teorico()\n",
        "l3_q3.lamb = 21/(21-8.7)\n",
        "l3_q3.Hg = l3_q3.hg(**biomassa.cts[200])\n",
        "l3_q3.report(d = l3_q3.__dict__)"
      ],
      "execution_count": 42,
      "outputs": [
        {
          "output_type": "stream",
          "name": "stdout",
          "text": [
            "  \n",
            "Composição percentual em base seca (%)\n",
            "\n",
            "C:\t23.73\n",
            "H:\t2.92\n",
            "O:\t19.47\n",
            "N:\t0.0\n",
            "S:\t0.0\n",
            "A:\t1.63\n",
            "W:\t52\n",
            "\n",
            "Va:\t2.23\n",
            "lamb:\t1.71\n",
            "Var:\t3.81\n",
            "PCIt:\t7.69\n",
            "Vgo:\t3.2\n",
            "Vg:\t4.8\n",
            "Mi:\t2.04\n",
            "Hg:\t1341.28\n"
          ]
        }
      ]
    },
    {
      "cell_type": "code",
      "metadata": {
        "id": "9cdTqM5pqOza"
      },
      "source": [
        ""
      ],
      "execution_count": 42,
      "outputs": []
    }
  ]
}